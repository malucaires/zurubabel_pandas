{
 "cells": [
  {
   "cell_type": "code",
   "execution_count": 1,
   "id": "efe9313a",
   "metadata": {},
   "outputs": [],
   "source": [
    "# Criação de Series (colunas do dataframe)"
   ]
  },
  {
   "cell_type": "code",
   "execution_count": 2,
   "id": "0317940b",
   "metadata": {},
   "outputs": [],
   "source": [
    "import pandas as pd\n",
    "import numpy as np"
   ]
  },
  {
   "cell_type": "code",
   "execution_count": 3,
   "id": "4a5562d2",
   "metadata": {},
   "outputs": [
    {
     "data": {
      "text/plain": [
       "0    1\n",
       "1    5\n",
       "2    7\n",
       "3    6\n",
       "dtype: int64"
      ]
     },
     "execution_count": 3,
     "metadata": {},
     "output_type": "execute_result"
    }
   ],
   "source": [
    "# Criar Series int63\n",
    "pd.Series([1, 5, 7, 6])"
   ]
  },
  {
   "cell_type": "code",
   "execution_count": 4,
   "id": "e2600fbd",
   "metadata": {},
   "outputs": [
    {
     "data": {
      "text/plain": [
       "0    1.0\n",
       "1    5.0\n",
       "2    7.0\n",
       "3    6.3\n",
       "dtype: float64"
      ]
     },
     "execution_count": 4,
     "metadata": {},
     "output_type": "execute_result"
    }
   ],
   "source": [
    "# Criar Series float64\n",
    "pd.Series([1, 5, 7, 6.3])"
   ]
  },
  {
   "cell_type": "code",
   "execution_count": 5,
   "id": "afa9cd57",
   "metadata": {},
   "outputs": [
    {
     "data": {
      "text/plain": [
       "0      1\n",
       "1      5\n",
       "2      7\n",
       "3    6.3\n",
       "4     90\n",
       "dtype: object"
      ]
     },
     "execution_count": 5,
     "metadata": {},
     "output_type": "execute_result"
    }
   ],
   "source": [
    "# Criar Series object\n",
    "pd.Series([1, 5, 7, 6.3, '90'])"
   ]
  },
  {
   "cell_type": "code",
   "execution_count": 6,
   "id": "b6bd20e0",
   "metadata": {},
   "outputs": [
    {
     "data": {
      "text/plain": [
       "a   -0.907040\n",
       "b   -1.036850\n",
       "c    0.171721\n",
       "d    0.060631\n",
       "e   -0.028486\n",
       "dtype: float64"
      ]
     },
     "execution_count": 6,
     "metadata": {},
     "output_type": "execute_result"
    }
   ],
   "source": [
    "# Criar Serie com lista aleatória gerada pelo numpy\n",
    "pd.Series(np.random.randn(5), index = ['a', 'b', 'c', 'd', 'e'])"
   ]
  },
  {
   "cell_type": "code",
   "execution_count": 7,
   "id": "6bd95a93",
   "metadata": {},
   "outputs": [
    {
     "data": {
      "text/plain": [
       "a    12\n",
       "b    15\n",
       "c    20\n",
       "dtype: int64"
      ]
     },
     "execution_count": 7,
     "metadata": {},
     "output_type": "execute_result"
    }
   ],
   "source": [
    "# Criar Serie com dicionário\n",
    "pd.Series({'a' : 12, 'b' : 15, 'c' : 20})"
   ]
  }
 ],
 "metadata": {
  "kernelspec": {
   "display_name": "Python 3",
   "language": "python",
   "name": "python3"
  },
  "language_info": {
   "codemirror_mode": {
    "name": "ipython",
    "version": 3
   },
   "file_extension": ".py",
   "mimetype": "text/x-python",
   "name": "python",
   "nbconvert_exporter": "python",
   "pygments_lexer": "ipython3",
   "version": "3.8.8"
  }
 },
 "nbformat": 4,
 "nbformat_minor": 5
}
