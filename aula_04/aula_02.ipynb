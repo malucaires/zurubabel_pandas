{
 "cells": [
  {
   "cell_type": "code",
   "execution_count": 1,
   "id": "2cf00664",
   "metadata": {},
   "outputs": [],
   "source": [
    "#Descreve o nome das colunas do dataframe"
   ]
  },
  {
   "cell_type": "code",
   "execution_count": 2,
   "id": "95e28270",
   "metadata": {},
   "outputs": [],
   "source": [
    "import pandas as pd\n",
    "import numpy as np"
   ]
  },
  {
   "cell_type": "code",
   "execution_count": 3,
   "id": "2717c85f",
   "metadata": {},
   "outputs": [],
   "source": [
    "import os \n",
    "from pathlib import Path\n",
    "import os\n",
    "from pathlib import Path\n",
    "p = Path(os.getcwd())\n",
    "df = pd.read_csv(str(p.parent) + '\\\\bases_de_dados\\\\houses_to_rent.csv')"
   ]
  },
  {
   "cell_type": "code",
   "execution_count": 4,
   "id": "770def9c",
   "metadata": {},
   "outputs": [
    {
     "data": {
      "text/html": [
       "<div>\n",
       "<style scoped>\n",
       "    .dataframe tbody tr th:only-of-type {\n",
       "        vertical-align: middle;\n",
       "    }\n",
       "\n",
       "    .dataframe tbody tr th {\n",
       "        vertical-align: top;\n",
       "    }\n",
       "\n",
       "    .dataframe thead th {\n",
       "        text-align: right;\n",
       "    }\n",
       "</style>\n",
       "<table border=\"1\" class=\"dataframe\">\n",
       "  <thead>\n",
       "    <tr style=\"text-align: right;\">\n",
       "      <th></th>\n",
       "      <th>Unnamed: 0</th>\n",
       "      <th>city</th>\n",
       "      <th>area</th>\n",
       "      <th>rooms</th>\n",
       "      <th>bathroom</th>\n",
       "      <th>parking spaces</th>\n",
       "      <th>floor</th>\n",
       "      <th>animal</th>\n",
       "      <th>furniture</th>\n",
       "      <th>hoa</th>\n",
       "      <th>rent amount</th>\n",
       "      <th>property tax</th>\n",
       "      <th>fire insurance</th>\n",
       "      <th>total</th>\n",
       "    </tr>\n",
       "  </thead>\n",
       "  <tbody>\n",
       "    <tr>\n",
       "      <th>0</th>\n",
       "      <td>0</td>\n",
       "      <td>1</td>\n",
       "      <td>240</td>\n",
       "      <td>3</td>\n",
       "      <td>3</td>\n",
       "      <td>4</td>\n",
       "      <td>-</td>\n",
       "      <td>acept</td>\n",
       "      <td>furnished</td>\n",
       "      <td>R$0</td>\n",
       "      <td>R$8,000</td>\n",
       "      <td>R$1,000</td>\n",
       "      <td>R$121</td>\n",
       "      <td>R$9,121</td>\n",
       "    </tr>\n",
       "    <tr>\n",
       "      <th>1</th>\n",
       "      <td>1</td>\n",
       "      <td>0</td>\n",
       "      <td>64</td>\n",
       "      <td>2</td>\n",
       "      <td>1</td>\n",
       "      <td>1</td>\n",
       "      <td>10</td>\n",
       "      <td>acept</td>\n",
       "      <td>not furnished</td>\n",
       "      <td>R$540</td>\n",
       "      <td>R$820</td>\n",
       "      <td>R$122</td>\n",
       "      <td>R$11</td>\n",
       "      <td>R$1,493</td>\n",
       "    </tr>\n",
       "    <tr>\n",
       "      <th>2</th>\n",
       "      <td>2</td>\n",
       "      <td>1</td>\n",
       "      <td>443</td>\n",
       "      <td>5</td>\n",
       "      <td>5</td>\n",
       "      <td>4</td>\n",
       "      <td>3</td>\n",
       "      <td>acept</td>\n",
       "      <td>furnished</td>\n",
       "      <td>R$4,172</td>\n",
       "      <td>R$7,000</td>\n",
       "      <td>R$1,417</td>\n",
       "      <td>R$89</td>\n",
       "      <td>R$12,680</td>\n",
       "    </tr>\n",
       "  </tbody>\n",
       "</table>\n",
       "</div>"
      ],
      "text/plain": [
       "   Unnamed: 0  city  area  rooms  bathroom  parking spaces floor animal  \\\n",
       "0           0     1   240      3         3               4     -  acept   \n",
       "1           1     0    64      2         1               1    10  acept   \n",
       "2           2     1   443      5         5               4     3  acept   \n",
       "\n",
       "       furniture      hoa rent amount property tax fire insurance     total  \n",
       "0      furnished      R$0     R$8,000      R$1,000          R$121   R$9,121  \n",
       "1  not furnished    R$540       R$820        R$122           R$11   R$1,493  \n",
       "2      furnished  R$4,172     R$7,000      R$1,417           R$89  R$12,680  "
      ]
     },
     "execution_count": 4,
     "metadata": {},
     "output_type": "execute_result"
    }
   ],
   "source": [
    "df.head(3)"
   ]
  },
  {
   "cell_type": "code",
   "execution_count": 5,
   "id": "e4430a2b",
   "metadata": {},
   "outputs": [],
   "source": [
    "#Criar um dicionário com a descrição dos títulos das colunas\n",
    "descricao = {\n",
    "    'city': ['cidade onde o imóvel está localizado'],\n",
    "    'area': ['area em m² do imovel'],\n",
    "    'rooms': ['quantidade de quartos']\n",
    "}"
   ]
  },
  {
   "cell_type": "code",
   "execution_count": 6,
   "id": "1bc8fd41",
   "metadata": {},
   "outputs": [],
   "source": [
    "descricao_df = pd.DataFrame(descricao)"
   ]
  },
  {
   "cell_type": "code",
   "execution_count": 7,
   "id": "ff671dd0",
   "metadata": {},
   "outputs": [
    {
     "data": {
      "text/html": [
       "<div>\n",
       "<style scoped>\n",
       "    .dataframe tbody tr th:only-of-type {\n",
       "        vertical-align: middle;\n",
       "    }\n",
       "\n",
       "    .dataframe tbody tr th {\n",
       "        vertical-align: top;\n",
       "    }\n",
       "\n",
       "    .dataframe thead th {\n",
       "        text-align: right;\n",
       "    }\n",
       "</style>\n",
       "<table border=\"1\" class=\"dataframe\">\n",
       "  <thead>\n",
       "    <tr style=\"text-align: right;\">\n",
       "      <th></th>\n",
       "      <th>0</th>\n",
       "    </tr>\n",
       "  </thead>\n",
       "  <tbody>\n",
       "    <tr>\n",
       "      <th>city</th>\n",
       "      <td>cidade onde o imóvel está localizado</td>\n",
       "    </tr>\n",
       "    <tr>\n",
       "      <th>area</th>\n",
       "      <td>area em m² do imovel</td>\n",
       "    </tr>\n",
       "    <tr>\n",
       "      <th>rooms</th>\n",
       "      <td>quantidade de quartos</td>\n",
       "    </tr>\n",
       "  </tbody>\n",
       "</table>\n",
       "</div>"
      ],
      "text/plain": [
       "                                          0\n",
       "city   cidade onde o imóvel está localizado\n",
       "area                   area em m² do imovel\n",
       "rooms                 quantidade de quartos"
      ]
     },
     "execution_count": 7,
     "metadata": {},
     "output_type": "execute_result"
    }
   ],
   "source": [
    "#T transpõe os dados\n",
    "descricao_df.T"
   ]
  },
  {
   "cell_type": "code",
   "execution_count": 8,
   "id": "8c759fd8",
   "metadata": {},
   "outputs": [],
   "source": [
    "descricao2 = {\n",
    "    'nome_coluna': ['city','area','rooms'],\n",
    "    'descricao': ['cidade onde o imóvel está localizado', 'area em m²', 'quantidade de quartos'],\n",
    "    'tipo_dado': ['numérico','numérico','quantitativo'],\n",
    "    'tipo_dado_np': ['int64', 'int64', 'int64']\n",
    "}"
   ]
  },
  {
   "cell_type": "code",
   "execution_count": 9,
   "id": "84165610",
   "metadata": {},
   "outputs": [],
   "source": [
    "descricao2_df = pd.DataFrame(descricao2)"
   ]
  },
  {
   "cell_type": "code",
   "execution_count": 10,
   "id": "0025020f",
   "metadata": {},
   "outputs": [
    {
     "data": {
      "text/html": [
       "<div>\n",
       "<style scoped>\n",
       "    .dataframe tbody tr th:only-of-type {\n",
       "        vertical-align: middle;\n",
       "    }\n",
       "\n",
       "    .dataframe tbody tr th {\n",
       "        vertical-align: top;\n",
       "    }\n",
       "\n",
       "    .dataframe thead th {\n",
       "        text-align: right;\n",
       "    }\n",
       "</style>\n",
       "<table border=\"1\" class=\"dataframe\">\n",
       "  <thead>\n",
       "    <tr style=\"text-align: right;\">\n",
       "      <th></th>\n",
       "      <th>0</th>\n",
       "      <th>1</th>\n",
       "      <th>2</th>\n",
       "    </tr>\n",
       "  </thead>\n",
       "  <tbody>\n",
       "    <tr>\n",
       "      <th>nome_coluna</th>\n",
       "      <td>city</td>\n",
       "      <td>area</td>\n",
       "      <td>rooms</td>\n",
       "    </tr>\n",
       "    <tr>\n",
       "      <th>descricao</th>\n",
       "      <td>cidade onde o imóvel está localizado</td>\n",
       "      <td>area em m²</td>\n",
       "      <td>quantidade de quartos</td>\n",
       "    </tr>\n",
       "    <tr>\n",
       "      <th>tipo_dado</th>\n",
       "      <td>numérico</td>\n",
       "      <td>numérico</td>\n",
       "      <td>quantitativo</td>\n",
       "    </tr>\n",
       "    <tr>\n",
       "      <th>tipo_dado_np</th>\n",
       "      <td>int64</td>\n",
       "      <td>int64</td>\n",
       "      <td>int64</td>\n",
       "    </tr>\n",
       "  </tbody>\n",
       "</table>\n",
       "</div>"
      ],
      "text/plain": [
       "                                                 0           1  \\\n",
       "nome_coluna                                   city        area   \n",
       "descricao     cidade onde o imóvel está localizado  area em m²   \n",
       "tipo_dado                                 numérico    numérico   \n",
       "tipo_dado_np                                 int64       int64   \n",
       "\n",
       "                                  2  \n",
       "nome_coluna                   rooms  \n",
       "descricao     quantidade de quartos  \n",
       "tipo_dado              quantitativo  \n",
       "tipo_dado_np                  int64  "
      ]
     },
     "execution_count": 10,
     "metadata": {},
     "output_type": "execute_result"
    }
   ],
   "source": [
    "descricao2_df.T"
   ]
  }
 ],
 "metadata": {
  "kernelspec": {
   "display_name": "Python 3",
   "language": "python",
   "name": "python3"
  },
  "language_info": {
   "codemirror_mode": {
    "name": "ipython",
    "version": 3
   },
   "file_extension": ".py",
   "mimetype": "text/x-python",
   "name": "python",
   "nbconvert_exporter": "python",
   "pygments_lexer": "ipython3",
   "version": "3.8.8"
  }
 },
 "nbformat": 4,
 "nbformat_minor": 5
}
