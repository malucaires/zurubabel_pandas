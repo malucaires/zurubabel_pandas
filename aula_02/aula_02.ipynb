{
 "cells": [
  {
   "cell_type": "code",
   "execution_count": 1,
   "id": "94ec975a",
   "metadata": {},
   "outputs": [],
   "source": [
    "#Selecionar séries utilizando loc e iloc"
   ]
  },
  {
   "cell_type": "code",
   "execution_count": 2,
   "id": "fc9634a7",
   "metadata": {},
   "outputs": [],
   "source": [
    "import pandas as pd\n",
    "import numpy as np"
   ]
  },
  {
   "cell_type": "code",
   "execution_count": 3,
   "id": "da028461",
   "metadata": {},
   "outputs": [],
   "source": [
    "df = pd.DataFrame(np.random.randn(5,5), columns=[*'ABCDE'], index = [*'abcde'])"
   ]
  },
  {
   "cell_type": "code",
   "execution_count": 4,
   "id": "c2fc2ae0",
   "metadata": {},
   "outputs": [
    {
     "data": {
      "text/html": [
       "<div>\n",
       "<style scoped>\n",
       "    .dataframe tbody tr th:only-of-type {\n",
       "        vertical-align: middle;\n",
       "    }\n",
       "\n",
       "    .dataframe tbody tr th {\n",
       "        vertical-align: top;\n",
       "    }\n",
       "\n",
       "    .dataframe thead th {\n",
       "        text-align: right;\n",
       "    }\n",
       "</style>\n",
       "<table border=\"1\" class=\"dataframe\">\n",
       "  <thead>\n",
       "    <tr style=\"text-align: right;\">\n",
       "      <th></th>\n",
       "      <th>A</th>\n",
       "      <th>B</th>\n",
       "      <th>C</th>\n",
       "      <th>D</th>\n",
       "      <th>E</th>\n",
       "    </tr>\n",
       "  </thead>\n",
       "  <tbody>\n",
       "    <tr>\n",
       "      <th>a</th>\n",
       "      <td>0.809522</td>\n",
       "      <td>1.572740</td>\n",
       "      <td>-0.596398</td>\n",
       "      <td>-0.089080</td>\n",
       "      <td>1.031391</td>\n",
       "    </tr>\n",
       "    <tr>\n",
       "      <th>b</th>\n",
       "      <td>-0.852867</td>\n",
       "      <td>1.556601</td>\n",
       "      <td>-1.951188</td>\n",
       "      <td>-0.458019</td>\n",
       "      <td>0.391469</td>\n",
       "    </tr>\n",
       "    <tr>\n",
       "      <th>c</th>\n",
       "      <td>0.208002</td>\n",
       "      <td>0.305766</td>\n",
       "      <td>-0.322989</td>\n",
       "      <td>0.038059</td>\n",
       "      <td>-0.853215</td>\n",
       "    </tr>\n",
       "    <tr>\n",
       "      <th>d</th>\n",
       "      <td>1.183988</td>\n",
       "      <td>-1.561739</td>\n",
       "      <td>0.947338</td>\n",
       "      <td>0.819164</td>\n",
       "      <td>1.155357</td>\n",
       "    </tr>\n",
       "    <tr>\n",
       "      <th>e</th>\n",
       "      <td>1.272267</td>\n",
       "      <td>-0.102797</td>\n",
       "      <td>0.598882</td>\n",
       "      <td>-1.284669</td>\n",
       "      <td>-0.665950</td>\n",
       "    </tr>\n",
       "  </tbody>\n",
       "</table>\n",
       "</div>"
      ],
      "text/plain": [
       "          A         B         C         D         E\n",
       "a  0.809522  1.572740 -0.596398 -0.089080  1.031391\n",
       "b -0.852867  1.556601 -1.951188 -0.458019  0.391469\n",
       "c  0.208002  0.305766 -0.322989  0.038059 -0.853215\n",
       "d  1.183988 -1.561739  0.947338  0.819164  1.155357\n",
       "e  1.272267 -0.102797  0.598882 -1.284669 -0.665950"
      ]
     },
     "execution_count": 4,
     "metadata": {},
     "output_type": "execute_result"
    }
   ],
   "source": [
    "df.head()"
   ]
  },
  {
   "cell_type": "code",
   "execution_count": 5,
   "id": "ccceb38e",
   "metadata": {},
   "outputs": [
    {
     "data": {
      "text/plain": [
       "A    0.809522\n",
       "B    1.572740\n",
       "C   -0.596398\n",
       "D   -0.089080\n",
       "E    1.031391\n",
       "Name: a, dtype: float64"
      ]
     },
     "execution_count": 5,
     "metadata": {},
     "output_type": "execute_result"
    }
   ],
   "source": [
    "#Selecionar uma série utilizando loc \n",
    "df.loc['a']"
   ]
  },
  {
   "cell_type": "code",
   "execution_count": 6,
   "id": "a97de5fc",
   "metadata": {},
   "outputs": [
    {
     "data": {
      "text/html": [
       "<div>\n",
       "<style scoped>\n",
       "    .dataframe tbody tr th:only-of-type {\n",
       "        vertical-align: middle;\n",
       "    }\n",
       "\n",
       "    .dataframe tbody tr th {\n",
       "        vertical-align: top;\n",
       "    }\n",
       "\n",
       "    .dataframe thead th {\n",
       "        text-align: right;\n",
       "    }\n",
       "</style>\n",
       "<table border=\"1\" class=\"dataframe\">\n",
       "  <thead>\n",
       "    <tr style=\"text-align: right;\">\n",
       "      <th></th>\n",
       "      <th>A</th>\n",
       "      <th>B</th>\n",
       "      <th>C</th>\n",
       "      <th>D</th>\n",
       "      <th>E</th>\n",
       "    </tr>\n",
       "  </thead>\n",
       "  <tbody>\n",
       "    <tr>\n",
       "      <th>a</th>\n",
       "      <td>0.809522</td>\n",
       "      <td>1.572740</td>\n",
       "      <td>-0.596398</td>\n",
       "      <td>-0.089080</td>\n",
       "      <td>1.031391</td>\n",
       "    </tr>\n",
       "    <tr>\n",
       "      <th>b</th>\n",
       "      <td>-0.852867</td>\n",
       "      <td>1.556601</td>\n",
       "      <td>-1.951188</td>\n",
       "      <td>-0.458019</td>\n",
       "      <td>0.391469</td>\n",
       "    </tr>\n",
       "    <tr>\n",
       "      <th>c</th>\n",
       "      <td>0.208002</td>\n",
       "      <td>0.305766</td>\n",
       "      <td>-0.322989</td>\n",
       "      <td>0.038059</td>\n",
       "      <td>-0.853215</td>\n",
       "    </tr>\n",
       "  </tbody>\n",
       "</table>\n",
       "</div>"
      ],
      "text/plain": [
       "          A         B         C         D         E\n",
       "a  0.809522  1.572740 -0.596398 -0.089080  1.031391\n",
       "b -0.852867  1.556601 -1.951188 -0.458019  0.391469\n",
       "c  0.208002  0.305766 -0.322989  0.038059 -0.853215"
      ]
     },
     "execution_count": 6,
     "metadata": {},
     "output_type": "execute_result"
    }
   ],
   "source": [
    "#Selecionar várias séries utilizando loc \n",
    "df.loc['a':'c']"
   ]
  },
  {
   "cell_type": "code",
   "execution_count": 7,
   "id": "95326f70",
   "metadata": {},
   "outputs": [
    {
     "data": {
      "text/plain": [
       "A    0.208002\n",
       "B    0.305766\n",
       "C   -0.322989\n",
       "D    0.038059\n",
       "E   -0.853215\n",
       "Name: c, dtype: float64"
      ]
     },
     "execution_count": 7,
     "metadata": {},
     "output_type": "execute_result"
    }
   ],
   "source": [
    "#Selecionar uma série utilizando iloc \n",
    "df.iloc[2]"
   ]
  },
  {
   "cell_type": "code",
   "execution_count": 8,
   "id": "9b64a58c",
   "metadata": {},
   "outputs": [
    {
     "data": {
      "text/html": [
       "<div>\n",
       "<style scoped>\n",
       "    .dataframe tbody tr th:only-of-type {\n",
       "        vertical-align: middle;\n",
       "    }\n",
       "\n",
       "    .dataframe tbody tr th {\n",
       "        vertical-align: top;\n",
       "    }\n",
       "\n",
       "    .dataframe thead th {\n",
       "        text-align: right;\n",
       "    }\n",
       "</style>\n",
       "<table border=\"1\" class=\"dataframe\">\n",
       "  <thead>\n",
       "    <tr style=\"text-align: right;\">\n",
       "      <th></th>\n",
       "      <th>A</th>\n",
       "      <th>B</th>\n",
       "      <th>C</th>\n",
       "      <th>D</th>\n",
       "      <th>E</th>\n",
       "    </tr>\n",
       "  </thead>\n",
       "  <tbody>\n",
       "    <tr>\n",
       "      <th>a</th>\n",
       "      <td>0.809522</td>\n",
       "      <td>1.572740</td>\n",
       "      <td>-0.596398</td>\n",
       "      <td>-0.089080</td>\n",
       "      <td>1.031391</td>\n",
       "    </tr>\n",
       "    <tr>\n",
       "      <th>b</th>\n",
       "      <td>-0.852867</td>\n",
       "      <td>1.556601</td>\n",
       "      <td>-1.951188</td>\n",
       "      <td>-0.458019</td>\n",
       "      <td>0.391469</td>\n",
       "    </tr>\n",
       "  </tbody>\n",
       "</table>\n",
       "</div>"
      ],
      "text/plain": [
       "          A         B         C         D         E\n",
       "a  0.809522  1.572740 -0.596398 -0.089080  1.031391\n",
       "b -0.852867  1.556601 -1.951188 -0.458019  0.391469"
      ]
     },
     "execution_count": 8,
     "metadata": {},
     "output_type": "execute_result"
    }
   ],
   "source": [
    "#Selecionar várias séries utilizando iloc \n",
    "df.iloc[0:2]"
   ]
  }
 ],
 "metadata": {
  "kernelspec": {
   "display_name": "Python 3",
   "language": "python",
   "name": "python3"
  },
  "language_info": {
   "codemirror_mode": {
    "name": "ipython",
    "version": 3
   },
   "file_extension": ".py",
   "mimetype": "text/x-python",
   "name": "python",
   "nbconvert_exporter": "python",
   "pygments_lexer": "ipython3",
   "version": "3.8.8"
  }
 },
 "nbformat": 4,
 "nbformat_minor": 5
}
