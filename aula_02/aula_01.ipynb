{
 "cells": [
  {
   "cell_type": "code",
   "execution_count": 1,
   "id": "ad7a7980",
   "metadata": {},
   "outputs": [],
   "source": [
    "# Indexação e atributos "
   ]
  },
  {
   "cell_type": "code",
   "execution_count": 2,
   "id": "216b9219",
   "metadata": {},
   "outputs": [],
   "source": [
    "import pandas as pd\n",
    "import numpy as np"
   ]
  },
  {
   "cell_type": "code",
   "execution_count": 3,
   "id": "35f9dae3",
   "metadata": {},
   "outputs": [],
   "source": [
    "#Gerar um df com números aleatórios com numpy.\n",
    "#np.random.randn(linha,coluna)\n",
    "\n",
    "df = pd.DataFrame(np.random.randn(3,5))"
   ]
  },
  {
   "cell_type": "code",
   "execution_count": 4,
   "id": "96c49b05",
   "metadata": {},
   "outputs": [
    {
     "data": {
      "text/html": [
       "<div>\n",
       "<style scoped>\n",
       "    .dataframe tbody tr th:only-of-type {\n",
       "        vertical-align: middle;\n",
       "    }\n",
       "\n",
       "    .dataframe tbody tr th {\n",
       "        vertical-align: top;\n",
       "    }\n",
       "\n",
       "    .dataframe thead th {\n",
       "        text-align: right;\n",
       "    }\n",
       "</style>\n",
       "<table border=\"1\" class=\"dataframe\">\n",
       "  <thead>\n",
       "    <tr style=\"text-align: right;\">\n",
       "      <th></th>\n",
       "      <th>0</th>\n",
       "      <th>1</th>\n",
       "      <th>2</th>\n",
       "      <th>3</th>\n",
       "      <th>4</th>\n",
       "    </tr>\n",
       "  </thead>\n",
       "  <tbody>\n",
       "    <tr>\n",
       "      <th>0</th>\n",
       "      <td>1.659441</td>\n",
       "      <td>-0.615568</td>\n",
       "      <td>-0.295142</td>\n",
       "      <td>-0.262465</td>\n",
       "      <td>-0.676484</td>\n",
       "    </tr>\n",
       "    <tr>\n",
       "      <th>1</th>\n",
       "      <td>0.631811</td>\n",
       "      <td>-0.913391</td>\n",
       "      <td>0.013186</td>\n",
       "      <td>-1.444731</td>\n",
       "      <td>-0.613358</td>\n",
       "    </tr>\n",
       "    <tr>\n",
       "      <th>2</th>\n",
       "      <td>0.723729</td>\n",
       "      <td>-2.133402</td>\n",
       "      <td>0.680420</td>\n",
       "      <td>-1.089156</td>\n",
       "      <td>1.965967</td>\n",
       "    </tr>\n",
       "  </tbody>\n",
       "</table>\n",
       "</div>"
      ],
      "text/plain": [
       "          0         1         2         3         4\n",
       "0  1.659441 -0.615568 -0.295142 -0.262465 -0.676484\n",
       "1  0.631811 -0.913391  0.013186 -1.444731 -0.613358\n",
       "2  0.723729 -2.133402  0.680420 -1.089156  1.965967"
      ]
     },
     "execution_count": 4,
     "metadata": {},
     "output_type": "execute_result"
    }
   ],
   "source": [
    "df.head(3)"
   ]
  },
  {
   "cell_type": "code",
   "execution_count": 5,
   "id": "d13015d0",
   "metadata": {},
   "outputs": [],
   "source": [
    "#Gerar um df com números aleatórios utilizando np.random.randn(linha,coluna)\n",
    "#e determinando os nomes de linhas e colunas\n",
    "\n",
    "df = pd.DataFrame(np.random.randn(3,3), index = range(5,8), columns=[*'ABC'])"
   ]
  },
  {
   "cell_type": "code",
   "execution_count": 6,
   "id": "fb6e4bb1",
   "metadata": {},
   "outputs": [
    {
     "data": {
      "text/html": [
       "<div>\n",
       "<style scoped>\n",
       "    .dataframe tbody tr th:only-of-type {\n",
       "        vertical-align: middle;\n",
       "    }\n",
       "\n",
       "    .dataframe tbody tr th {\n",
       "        vertical-align: top;\n",
       "    }\n",
       "\n",
       "    .dataframe thead th {\n",
       "        text-align: right;\n",
       "    }\n",
       "</style>\n",
       "<table border=\"1\" class=\"dataframe\">\n",
       "  <thead>\n",
       "    <tr style=\"text-align: right;\">\n",
       "      <th></th>\n",
       "      <th>A</th>\n",
       "      <th>B</th>\n",
       "      <th>C</th>\n",
       "    </tr>\n",
       "  </thead>\n",
       "  <tbody>\n",
       "    <tr>\n",
       "      <th>5</th>\n",
       "      <td>-0.268988</td>\n",
       "      <td>-1.664022</td>\n",
       "      <td>0.237104</td>\n",
       "    </tr>\n",
       "    <tr>\n",
       "      <th>6</th>\n",
       "      <td>0.469115</td>\n",
       "      <td>-0.309782</td>\n",
       "      <td>-0.175049</td>\n",
       "    </tr>\n",
       "    <tr>\n",
       "      <th>7</th>\n",
       "      <td>-0.596374</td>\n",
       "      <td>0.878547</td>\n",
       "      <td>1.085792</td>\n",
       "    </tr>\n",
       "  </tbody>\n",
       "</table>\n",
       "</div>"
      ],
      "text/plain": [
       "          A         B         C\n",
       "5 -0.268988 -1.664022  0.237104\n",
       "6  0.469115 -0.309782 -0.175049\n",
       "7 -0.596374  0.878547  1.085792"
      ]
     },
     "execution_count": 6,
     "metadata": {},
     "output_type": "execute_result"
    }
   ],
   "source": [
    "df.head(3)"
   ]
  },
  {
   "cell_type": "code",
   "execution_count": 7,
   "id": "7e4a6419",
   "metadata": {},
   "outputs": [],
   "source": [
    "#Gerar um df com números aleatórios utilizando np.random.randn(linha,coluna)\n",
    "#e determinando os nomes de linhas como datas e colunas\n",
    "\n",
    "datas = pd.date_range('03/18/2022', periods = 3)\n",
    "\n",
    "df = pd.DataFrame(np.random.randn(3,3), index = datas, columns=[*'ABC'])"
   ]
  },
  {
   "cell_type": "code",
   "execution_count": 8,
   "id": "87d43ab3",
   "metadata": {},
   "outputs": [
    {
     "data": {
      "text/html": [
       "<div>\n",
       "<style scoped>\n",
       "    .dataframe tbody tr th:only-of-type {\n",
       "        vertical-align: middle;\n",
       "    }\n",
       "\n",
       "    .dataframe tbody tr th {\n",
       "        vertical-align: top;\n",
       "    }\n",
       "\n",
       "    .dataframe thead th {\n",
       "        text-align: right;\n",
       "    }\n",
       "</style>\n",
       "<table border=\"1\" class=\"dataframe\">\n",
       "  <thead>\n",
       "    <tr style=\"text-align: right;\">\n",
       "      <th></th>\n",
       "      <th>A</th>\n",
       "      <th>B</th>\n",
       "      <th>C</th>\n",
       "    </tr>\n",
       "  </thead>\n",
       "  <tbody>\n",
       "    <tr>\n",
       "      <th>2022-03-18</th>\n",
       "      <td>-2.197153</td>\n",
       "      <td>0.073124</td>\n",
       "      <td>0.754222</td>\n",
       "    </tr>\n",
       "    <tr>\n",
       "      <th>2022-03-19</th>\n",
       "      <td>0.253189</td>\n",
       "      <td>-0.706511</td>\n",
       "      <td>1.487342</td>\n",
       "    </tr>\n",
       "    <tr>\n",
       "      <th>2022-03-20</th>\n",
       "      <td>1.070572</td>\n",
       "      <td>-0.709410</td>\n",
       "      <td>-0.555952</td>\n",
       "    </tr>\n",
       "  </tbody>\n",
       "</table>\n",
       "</div>"
      ],
      "text/plain": [
       "                   A         B         C\n",
       "2022-03-18 -2.197153  0.073124  0.754222\n",
       "2022-03-19  0.253189 -0.706511  1.487342\n",
       "2022-03-20  1.070572 -0.709410 -0.555952"
      ]
     },
     "execution_count": 8,
     "metadata": {},
     "output_type": "execute_result"
    }
   ],
   "source": [
    "df.head(3)"
   ]
  },
  {
   "cell_type": "code",
   "execution_count": 9,
   "id": "3da87bfc",
   "metadata": {},
   "outputs": [],
   "source": [
    "#Alterar o nome das linhas\n",
    "df.index = [1, 2, 5]"
   ]
  },
  {
   "cell_type": "code",
   "execution_count": 10,
   "id": "deaa6964",
   "metadata": {},
   "outputs": [
    {
     "data": {
      "text/html": [
       "<div>\n",
       "<style scoped>\n",
       "    .dataframe tbody tr th:only-of-type {\n",
       "        vertical-align: middle;\n",
       "    }\n",
       "\n",
       "    .dataframe tbody tr th {\n",
       "        vertical-align: top;\n",
       "    }\n",
       "\n",
       "    .dataframe thead th {\n",
       "        text-align: right;\n",
       "    }\n",
       "</style>\n",
       "<table border=\"1\" class=\"dataframe\">\n",
       "  <thead>\n",
       "    <tr style=\"text-align: right;\">\n",
       "      <th></th>\n",
       "      <th>A</th>\n",
       "      <th>B</th>\n",
       "      <th>C</th>\n",
       "    </tr>\n",
       "  </thead>\n",
       "  <tbody>\n",
       "    <tr>\n",
       "      <th>1</th>\n",
       "      <td>-2.197153</td>\n",
       "      <td>0.073124</td>\n",
       "      <td>0.754222</td>\n",
       "    </tr>\n",
       "    <tr>\n",
       "      <th>2</th>\n",
       "      <td>0.253189</td>\n",
       "      <td>-0.706511</td>\n",
       "      <td>1.487342</td>\n",
       "    </tr>\n",
       "    <tr>\n",
       "      <th>5</th>\n",
       "      <td>1.070572</td>\n",
       "      <td>-0.709410</td>\n",
       "      <td>-0.555952</td>\n",
       "    </tr>\n",
       "  </tbody>\n",
       "</table>\n",
       "</div>"
      ],
      "text/plain": [
       "          A         B         C\n",
       "1 -2.197153  0.073124  0.754222\n",
       "2  0.253189 -0.706511  1.487342\n",
       "5  1.070572 -0.709410 -0.555952"
      ]
     },
     "execution_count": 10,
     "metadata": {},
     "output_type": "execute_result"
    }
   ],
   "source": [
    "df.head(3)"
   ]
  }
 ],
 "metadata": {
  "kernelspec": {
   "display_name": "Python 3",
   "language": "python",
   "name": "python3"
  },
  "language_info": {
   "codemirror_mode": {
    "name": "ipython",
    "version": 3
   },
   "file_extension": ".py",
   "mimetype": "text/x-python",
   "name": "python",
   "nbconvert_exporter": "python",
   "pygments_lexer": "ipython3",
   "version": "3.8.8"
  }
 },
 "nbformat": 4,
 "nbformat_minor": 5
}
