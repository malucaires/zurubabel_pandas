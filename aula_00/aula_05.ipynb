{
 "cells": [
  {
   "cell_type": "code",
   "execution_count": null,
   "id": "455cd0f6",
   "metadata": {},
   "outputs": [],
   "source": [
    "#Seleciona dados utilizando loc e iloc"
   ]
  },
  {
   "cell_type": "code",
   "execution_count": null,
   "id": "e247347e",
   "metadata": {},
   "outputs": [],
   "source": [
    "import pandas as pd"
   ]
  },
  {
   "cell_type": "code",
   "execution_count": null,
   "id": "b2990509",
   "metadata": {},
   "outputs": [],
   "source": [
    "df = pd.read_excel('aula_05.xlsx')"
   ]
  },
  {
   "cell_type": "code",
   "execution_count": null,
   "id": "917d50bc",
   "metadata": {},
   "outputs": [],
   "source": [
    "df.head()"
   ]
  },
  {
   "cell_type": "code",
   "execution_count": null,
   "id": "9b65f825",
   "metadata": {},
   "outputs": [],
   "source": [
    "# Seleciona as linhas de 2 a 6 e colunas de First Name a LastName utilizando o loc\n",
    "df.loc[2:6, 'FirstName':'LastName']"
   ]
  },
  {
   "cell_type": "code",
   "execution_count": null,
   "id": "1a2d5eaf",
   "metadata": {},
   "outputs": [],
   "source": [
    "# Seleciona as linhas de 2 a 6 e colunas de First Name(5) a LastName(7) utilizando o iloc\n",
    "\n",
    "df.iloc[2:6, 5:8]"
   ]
  },
  {
   "cell_type": "code",
   "execution_count": null,
   "id": "e5814349",
   "metadata": {},
   "outputs": [],
   "source": []
  }
 ],
 "metadata": {
  "kernelspec": {
   "display_name": "Python 3",
   "language": "python",
   "name": "python3"
  },
  "language_info": {
   "codemirror_mode": {
    "name": "ipython",
    "version": 3
   },
   "file_extension": ".py",
   "mimetype": "text/x-python",
   "name": "python",
   "nbconvert_exporter": "python",
   "pygments_lexer": "ipython3",
   "version": "3.8.8"
  }
 },
 "nbformat": 4,
 "nbformat_minor": 5
}
