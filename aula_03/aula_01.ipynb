{
 "cells": [
  {
   "cell_type": "code",
   "execution_count": 1,
   "id": "a501ae07",
   "metadata": {},
   "outputs": [],
   "source": [
    "#Abrindo arquivos em outras pastas"
   ]
  },
  {
   "cell_type": "code",
   "execution_count": 2,
   "id": "edda455b",
   "metadata": {},
   "outputs": [],
   "source": [
    "import pandas as pd"
   ]
  },
  {
   "cell_type": "code",
   "execution_count": 3,
   "id": "63d726d0",
   "metadata": {},
   "outputs": [],
   "source": [
    "import os\n",
    "from pathlib import Path"
   ]
  },
  {
   "cell_type": "code",
   "execution_count": 4,
   "id": "70196359",
   "metadata": {},
   "outputs": [],
   "source": [
    "p = Path(os.getcwd())"
   ]
  },
  {
   "cell_type": "code",
   "execution_count": 5,
   "id": "38769d98",
   "metadata": {},
   "outputs": [],
   "source": [
    "df = pd.read_csv(str(p.parent) + '\\\\bases_de_dados\\\\houses_to_rent.csv')"
   ]
  }
 ],
 "metadata": {
  "kernelspec": {
   "display_name": "Python 3",
   "language": "python",
   "name": "python3"
  },
  "language_info": {
   "codemirror_mode": {
    "name": "ipython",
    "version": 3
   },
   "file_extension": ".py",
   "mimetype": "text/x-python",
   "name": "python",
   "nbconvert_exporter": "python",
   "pygments_lexer": "ipython3",
   "version": "3.8.8"
  }
 },
 "nbformat": 4,
 "nbformat_minor": 5
}
