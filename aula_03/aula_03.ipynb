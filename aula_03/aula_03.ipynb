{
 "cells": [
  {
   "cell_type": "code",
   "execution_count": 1,
   "id": "36f3de1e",
   "metadata": {},
   "outputs": [],
   "source": [
    "#Exportando dataframes para arquivos csv e xlsx"
   ]
  },
  {
   "cell_type": "code",
   "execution_count": 2,
   "id": "e9a7a37b",
   "metadata": {},
   "outputs": [],
   "source": [
    "import pandas as pd\n",
    "import numpy as np"
   ]
  },
  {
   "cell_type": "code",
   "execution_count": 3,
   "id": "d9e35519",
   "metadata": {},
   "outputs": [],
   "source": [
    "#Criar dataframe com dados\n",
    "albuns = [\"Bonito, Lindo e Joiado\", \n",
    "\"O Dinheiro Não é Tudo, Mas é 100%\", \n",
    "\"A Besteira é a Base da Sabedoria\", \n",
    "\"A Um Passo da MPB\", \n",
    "\"Quanto Pior, Melhor\", \n",
    "\"500 Anos de Chifre\", \n",
    "\"Do Penico à Bomba Atômica\", \n",
    "\"Maxximum\", \n",
    "\"What P***A iis This?\", \n",
    "\"Sucessão de Sucessos Que Se Sucedem Sucessivamente Sem Cessar\",\n",
    "\"Under the Blade\",\n",
    "\"You Can't Stop Rock'n Roll\",\n",
    "\"Stay Hungry\",\n",
    "\"Come Out and Play\",\n",
    "\"Love is for Suckers\",\n",
    "\"Big Hits and Nasty Cuts\",\n",
    "\"Still Hungry\"\n",
    "]\n",
    "\n",
    "anos = [\n",
    "    1992, 1994, 1995, 1997, 1998, 1999, 2000, 2005, 2006, 2014,\n",
    "    1982, 1983, 1984, 1985, 1987, 1992, 2004\n",
    "]\n",
    "artistas = []\n",
    "for i in range(0,10):\n",
    "    artistas.append(\"Falcão\")\n",
    "for i in range(0,7):\n",
    "    artistas.append(\"Twisted Sister\")\n",
    "\n",
    "dados = {\"Album\" : albuns, \"Ano\": anos, \"Artista\": artistas}\n",
    "discografia = pd.DataFrame(dados)"
   ]
  },
  {
   "cell_type": "code",
   "execution_count": 4,
   "id": "94baca03",
   "metadata": {},
   "outputs": [
    {
     "data": {
      "text/html": [
       "<div>\n",
       "<style scoped>\n",
       "    .dataframe tbody tr th:only-of-type {\n",
       "        vertical-align: middle;\n",
       "    }\n",
       "\n",
       "    .dataframe tbody tr th {\n",
       "        vertical-align: top;\n",
       "    }\n",
       "\n",
       "    .dataframe thead th {\n",
       "        text-align: right;\n",
       "    }\n",
       "</style>\n",
       "<table border=\"1\" class=\"dataframe\">\n",
       "  <thead>\n",
       "    <tr style=\"text-align: right;\">\n",
       "      <th></th>\n",
       "      <th>Album</th>\n",
       "      <th>Ano</th>\n",
       "      <th>Artista</th>\n",
       "    </tr>\n",
       "  </thead>\n",
       "  <tbody>\n",
       "    <tr>\n",
       "      <th>0</th>\n",
       "      <td>Bonito, Lindo e Joiado</td>\n",
       "      <td>1992</td>\n",
       "      <td>Falcão</td>\n",
       "    </tr>\n",
       "    <tr>\n",
       "      <th>1</th>\n",
       "      <td>O Dinheiro Não é Tudo, Mas é 100%</td>\n",
       "      <td>1994</td>\n",
       "      <td>Falcão</td>\n",
       "    </tr>\n",
       "    <tr>\n",
       "      <th>2</th>\n",
       "      <td>A Besteira é a Base da Sabedoria</td>\n",
       "      <td>1995</td>\n",
       "      <td>Falcão</td>\n",
       "    </tr>\n",
       "  </tbody>\n",
       "</table>\n",
       "</div>"
      ],
      "text/plain": [
       "                               Album   Ano Artista\n",
       "0             Bonito, Lindo e Joiado  1992  Falcão\n",
       "1  O Dinheiro Não é Tudo, Mas é 100%  1994  Falcão\n",
       "2   A Besteira é a Base da Sabedoria  1995  Falcão"
      ]
     },
     "execution_count": 4,
     "metadata": {},
     "output_type": "execute_result"
    }
   ],
   "source": [
    "discografia.head(3)"
   ]
  },
  {
   "cell_type": "code",
   "execution_count": 5,
   "id": "fb061e50",
   "metadata": {},
   "outputs": [],
   "source": [
    "#Exportar dataframe para arquivo csv\n",
    "discografia.to_csv('aula_03_discografia.csv')"
   ]
  },
  {
   "cell_type": "code",
   "execution_count": 6,
   "id": "28824399",
   "metadata": {},
   "outputs": [],
   "source": [
    "#Exportar dataframe sem índice para arquivo csv\n",
    "discografia.to_csv(\"aula_03_discografia_sem_indice.csv\", index=False)"
   ]
  },
  {
   "cell_type": "code",
   "execution_count": 7,
   "id": "cf621e59",
   "metadata": {},
   "outputs": [],
   "source": [
    "#Exportar dataframe para arquivo excel\n",
    "discografia.to_excel('aula_03_discografia.xlsx')"
   ]
  }
 ],
 "metadata": {
  "kernelspec": {
   "display_name": "Python 3",
   "language": "python",
   "name": "python3"
  },
  "language_info": {
   "codemirror_mode": {
    "name": "ipython",
    "version": 3
   },
   "file_extension": ".py",
   "mimetype": "text/x-python",
   "name": "python",
   "nbconvert_exporter": "python",
   "pygments_lexer": "ipython3",
   "version": "3.8.8"
  }
 },
 "nbformat": 4,
 "nbformat_minor": 5
}
