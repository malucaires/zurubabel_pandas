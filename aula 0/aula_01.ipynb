{
 "cells": [
  {
   "cell_type": "code",
   "execution_count": 1,
   "id": "5f2f9740",
   "metadata": {},
   "outputs": [],
   "source": [
    "# Importando dados de um csv utilizando pandas "
   ]
  },
  {
   "cell_type": "code",
   "execution_count": 2,
   "id": "af6c8de0",
   "metadata": {},
   "outputs": [],
   "source": [
    "# Importar o pandas\n",
    "import pandas as pd"
   ]
  },
  {
   "cell_type": "code",
   "execution_count": 3,
   "id": "395296cb",
   "metadata": {},
   "outputs": [],
   "source": [
    "# Lendo  o arquivo csv\n",
    "df = pd.read_csv('aula_0_01.csv', encoding = 'UTF-8', sep = ';', header = 0)"
   ]
  },
  {
   "cell_type": "code",
   "execution_count": 4,
   "id": "02bc2adb",
   "metadata": {},
   "outputs": [
    {
     "data": {
      "text/html": [
       "<div>\n",
       "<style scoped>\n",
       "    .dataframe tbody tr th:only-of-type {\n",
       "        vertical-align: middle;\n",
       "    }\n",
       "\n",
       "    .dataframe tbody tr th {\n",
       "        vertical-align: top;\n",
       "    }\n",
       "\n",
       "    .dataframe thead th {\n",
       "        text-align: right;\n",
       "    }\n",
       "</style>\n",
       "<table border=\"1\" class=\"dataframe\">\n",
       "  <thead>\n",
       "    <tr style=\"text-align: right;\">\n",
       "      <th></th>\n",
       "      <th>AddressID</th>\n",
       "      <th>AddressLine1</th>\n",
       "      <th>AddressLine2</th>\n",
       "      <th>City</th>\n",
       "      <th>StateProvinceID</th>\n",
       "      <th>PostalCode</th>\n",
       "      <th>SpatialLocation</th>\n",
       "      <th>rowguid</th>\n",
       "      <th>ModifiedDate</th>\n",
       "    </tr>\n",
       "  </thead>\n",
       "  <tbody>\n",
       "    <tr>\n",
       "      <th>0</th>\n",
       "      <td>1</td>\n",
       "      <td>1970 Napa Ct.</td>\n",
       "      <td>NaN</td>\n",
       "      <td>Bothell</td>\n",
       "      <td>79</td>\n",
       "      <td>98011</td>\n",
       "      <td>0xE6100000010CAE8BFC28BCE4474067A89189898A5EC0</td>\n",
       "      <td>9AADCB0D-36CF-483F-84D8-585C2D4EC6E9</td>\n",
       "      <td>2007-12-04 00:00:00.000</td>\n",
       "    </tr>\n",
       "    <tr>\n",
       "      <th>1</th>\n",
       "      <td>2</td>\n",
       "      <td>9833 Mt. Dias Blv.</td>\n",
       "      <td>NaN</td>\n",
       "      <td>Bothell</td>\n",
       "      <td>79</td>\n",
       "      <td>98011</td>\n",
       "      <td>0xE6100000010CD6FA851AE6D74740BC262A0A03905EC0</td>\n",
       "      <td>32A54B9E-E034-4BFB-B573-A71CDE60D8C0</td>\n",
       "      <td>2008-11-30 00:00:00.000</td>\n",
       "    </tr>\n",
       "    <tr>\n",
       "      <th>2</th>\n",
       "      <td>3</td>\n",
       "      <td>7484 Roundtree Drive</td>\n",
       "      <td>NaN</td>\n",
       "      <td>Bothell</td>\n",
       "      <td>79</td>\n",
       "      <td>98011</td>\n",
       "      <td>0xE6100000010C18E304C4ADE14740DA930C7893915EC0</td>\n",
       "      <td>4C506923-6D1B-452C-A07C-BAA6F5B142A4</td>\n",
       "      <td>2013-03-07 00:00:00.000</td>\n",
       "    </tr>\n",
       "    <tr>\n",
       "      <th>3</th>\n",
       "      <td>4</td>\n",
       "      <td>9539 Glenside Dr</td>\n",
       "      <td>NaN</td>\n",
       "      <td>Bothell</td>\n",
       "      <td>79</td>\n",
       "      <td>98011</td>\n",
       "      <td>0xE6100000010C813A0D5F9FDE474011A5C28A7C955EC0</td>\n",
       "      <td>E5946C78-4BCC-477F-9FA1-CC09DE16A880</td>\n",
       "      <td>2009-02-03 00:00:00.000</td>\n",
       "    </tr>\n",
       "  </tbody>\n",
       "</table>\n",
       "</div>"
      ],
      "text/plain": [
       "   AddressID          AddressLine1 AddressLine2     City  StateProvinceID  \\\n",
       "0          1         1970 Napa Ct.          NaN  Bothell               79   \n",
       "1          2    9833 Mt. Dias Blv.          NaN  Bothell               79   \n",
       "2          3  7484 Roundtree Drive          NaN  Bothell               79   \n",
       "3          4      9539 Glenside Dr          NaN  Bothell               79   \n",
       "\n",
       "  PostalCode                                 SpatialLocation  \\\n",
       "0      98011  0xE6100000010CAE8BFC28BCE4474067A89189898A5EC0   \n",
       "1      98011  0xE6100000010CD6FA851AE6D74740BC262A0A03905EC0   \n",
       "2      98011  0xE6100000010C18E304C4ADE14740DA930C7893915EC0   \n",
       "3      98011  0xE6100000010C813A0D5F9FDE474011A5C28A7C955EC0   \n",
       "\n",
       "                                rowguid             ModifiedDate  \n",
       "0  9AADCB0D-36CF-483F-84D8-585C2D4EC6E9  2007-12-04 00:00:00.000  \n",
       "1  32A54B9E-E034-4BFB-B573-A71CDE60D8C0  2008-11-30 00:00:00.000  \n",
       "2  4C506923-6D1B-452C-A07C-BAA6F5B142A4  2013-03-07 00:00:00.000  \n",
       "3  E5946C78-4BCC-477F-9FA1-CC09DE16A880  2009-02-03 00:00:00.000  "
      ]
     },
     "execution_count": 4,
     "metadata": {},
     "output_type": "execute_result"
    }
   ],
   "source": [
    "# Retorna primeiras x linhas do df\n",
    "df.head(4)"
   ]
  },
  {
   "cell_type": "code",
   "execution_count": 5,
   "id": "6550d67a",
   "metadata": {},
   "outputs": [],
   "source": [
    "# Lendo e selecionando apenas algumas colunas do csv\n",
    "df = pd.read_csv('aula_0_01.csv', encoding = 'UTF-8', sep = ';', header = 0, usecols=['AddressID','City'])"
   ]
  },
  {
   "cell_type": "code",
   "execution_count": 6,
   "id": "d25c9c98",
   "metadata": {},
   "outputs": [
    {
     "data": {
      "text/html": [
       "<div>\n",
       "<style scoped>\n",
       "    .dataframe tbody tr th:only-of-type {\n",
       "        vertical-align: middle;\n",
       "    }\n",
       "\n",
       "    .dataframe tbody tr th {\n",
       "        vertical-align: top;\n",
       "    }\n",
       "\n",
       "    .dataframe thead th {\n",
       "        text-align: right;\n",
       "    }\n",
       "</style>\n",
       "<table border=\"1\" class=\"dataframe\">\n",
       "  <thead>\n",
       "    <tr style=\"text-align: right;\">\n",
       "      <th></th>\n",
       "      <th>AddressID</th>\n",
       "      <th>City</th>\n",
       "    </tr>\n",
       "  </thead>\n",
       "  <tbody>\n",
       "    <tr>\n",
       "      <th>0</th>\n",
       "      <td>1</td>\n",
       "      <td>Bothell</td>\n",
       "    </tr>\n",
       "    <tr>\n",
       "      <th>1</th>\n",
       "      <td>2</td>\n",
       "      <td>Bothell</td>\n",
       "    </tr>\n",
       "    <tr>\n",
       "      <th>2</th>\n",
       "      <td>3</td>\n",
       "      <td>Bothell</td>\n",
       "    </tr>\n",
       "    <tr>\n",
       "      <th>3</th>\n",
       "      <td>4</td>\n",
       "      <td>Bothell</td>\n",
       "    </tr>\n",
       "  </tbody>\n",
       "</table>\n",
       "</div>"
      ],
      "text/plain": [
       "   AddressID     City\n",
       "0          1  Bothell\n",
       "1          2  Bothell\n",
       "2          3  Bothell\n",
       "3          4  Bothell"
      ]
     },
     "execution_count": 6,
     "metadata": {},
     "output_type": "execute_result"
    }
   ],
   "source": [
    "# Retorna primeiras x linhas do df\n",
    "df.head(4)"
   ]
  },
  {
   "cell_type": "code",
   "execution_count": 7,
   "id": "ff28d377",
   "metadata": {},
   "outputs": [
    {
     "data": {
      "text/plain": [
       "(1000, 2)"
      ]
     },
     "execution_count": 7,
     "metadata": {},
     "output_type": "execute_result"
    }
   ],
   "source": [
    "# Retorna quantidade de linha e coluna do df\n",
    "df.shape"
   ]
  }
 ],
 "metadata": {
  "kernelspec": {
   "display_name": "Python 3",
   "language": "python",
   "name": "python3"
  },
  "language_info": {
   "codemirror_mode": {
    "name": "ipython",
    "version": 3
   },
   "file_extension": ".py",
   "mimetype": "text/x-python",
   "name": "python",
   "nbconvert_exporter": "python",
   "pygments_lexer": "ipython3",
   "version": "3.8.8"
  }
 },
 "nbformat": 4,
 "nbformat_minor": 5
}
